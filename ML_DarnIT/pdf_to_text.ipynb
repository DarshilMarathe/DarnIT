{
 "cells": [
  {
   "cell_type": "code",
   "execution_count": 1,
   "id": "2138510e",
   "metadata": {},
   "outputs": [],
   "source": [
    "import csv\n",
    "import PyPDF2"
   ]
  },
  {
   "cell_type": "code",
   "execution_count": 2,
   "id": "629afb95",
   "metadata": {},
   "outputs": [],
   "source": [
    "# Open the PDF file in read binary mode\n",
    "pdf_file = open('SE-IT_SEM4_CN_MAY15.pdf', 'rb')"
   ]
  },
  {
   "cell_type": "code",
   "execution_count": 3,
   "id": "5f516c7b",
   "metadata": {},
   "outputs": [],
   "source": [
    "# Create a PDF reader object\n",
    "pdf_reader = PyPDF2.PdfReader(pdf_file)\n",
    "\n",
    "# Initialize an empty list to store the extracted lines\n",
    "lines = []"
   ]
  },
  {
   "cell_type": "code",
   "execution_count": 4,
   "id": "1b3d33a1",
   "metadata": {},
   "outputs": [],
   "source": [
    "# Loop through each page of the PDF\n",
    "for page_num in range(len(pdf_reader.pages)):\n",
    "    # Extract the text from the page\n",
    "    page = pdf_reader.pages[page_num]\n",
    "    page_text = page.extract_text()\n",
    "    \n",
    "    # Split the text into lines and append to the list\n",
    "    page_lines = page_text.split('\\n')\n",
    "    lines.extend(page_lines)"
   ]
  },
  {
   "cell_type": "code",
   "execution_count": 5,
   "id": "e88e8ca6",
   "metadata": {},
   "outputs": [],
   "source": [
    "# Close the PDF file\n",
    "pdf_file.close()"
   ]
  },
  {
   "cell_type": "code",
   "execution_count": 6,
   "id": "f1a2395c",
   "metadata": {},
   "outputs": [],
   "source": [
    "    # Open a CSV file in write mode with utf-8 encoding\n",
    "    with open('pdf2text.csv', 'w', newline='', encoding='utf-8') as csv_file:\n",
    "        # Determine the maximum length of any line in the list\n",
    "        max_line_length = max(len(line) for line in lines)\n",
    "\n",
    "        # Create a CSV writer object with the delimiter set to a single character and quoting enabled\n",
    "        csv_writer = csv.writer(csv_file, delimiter='|', quoting=csv.QUOTE_ALL)\n",
    "\n",
    "        # Write each line to the CSV file as a single column\n",
    "        for line in lines:\n",
    "            csv_writer.writerow([line])"
   ]
  },
  {
   "cell_type": "code",
   "execution_count": 7,
   "id": "4ca2cf72",
   "metadata": {},
   "outputs": [
    {
     "data": {
      "text/plain": [
       "\"with open('test2.csv', 'r', newline='', encoding='utf-8') as csv_file:\\n    # Open the output CSV file for writing\\n    with open('output.csv', 'w', newline='', encoding='utf-8') as output_file:\\n        # Create a CSV reader and writer objects\\n        reader = csv.reader(csv_file)\\n        writer = csv.writer(output_file)\\n        \\n        # Loop through each row in the input file\\n        for row in reader:\\n            # Merge all columns into a single column with space separator\\n            merged = ' '.join(row)\\n            \\n            # Write the merged row to the output file\\n            writer.writerow([merged])\""
      ]
     },
     "execution_count": 7,
     "metadata": {},
     "output_type": "execute_result"
    }
   ],
   "source": [
    "# Open the input CSV file for reading with utf-8 encoding\n",
    "'''with open('test2.csv', 'r', newline='', encoding='utf-8') as csv_file:\n",
    "    # Open the output CSV file for writing\n",
    "    with open('output.csv', 'w', newline='', encoding='utf-8') as output_file:\n",
    "        # Create a CSV reader and writer objects\n",
    "        reader = csv.reader(csv_file)\n",
    "        writer = csv.writer(output_file)\n",
    "        \n",
    "        # Loop through each row in the input file\n",
    "        for row in reader:\n",
    "            # Merge all columns into a single column with space separator\n",
    "            merged = ' '.join(row)\n",
    "            \n",
    "            # Write the merged row to the output file\n",
    "            writer.writerow([merged])'''\n"
   ]
  },
  {
   "cell_type": "markdown",
   "id": "15e06a35",
   "metadata": {},
   "source": []
  }
 ],
 "metadata": {
  "kernelspec": {
   "display_name": "Python 3",
   "language": "python",
   "name": "python3"
  },
  "language_info": {
   "codemirror_mode": {
    "name": "ipython",
    "version": 3
   },
   "file_extension": ".py",
   "mimetype": "text/x-python",
   "name": "python",
   "nbconvert_exporter": "python",
   "pygments_lexer": "ipython3",
   "version": "3.11.0"
  }
 },
 "nbformat": 4,
 "nbformat_minor": 5
}
