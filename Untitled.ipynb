{
 "cells": [
  {
   "cell_type": "code",
   "execution_count": 21,
   "id": "c1a023a7",
   "metadata": {},
   "outputs": [
    {
     "data": {
      "text/plain": [
       "1    8\n",
       "2    6\n",
       "Name: Category, dtype: int64"
      ]
     },
     "execution_count": 21,
     "metadata": {},
     "output_type": "execute_result"
    }
   ],
   "source": [
    "import numpy as np \n",
    "import pandas as pd \n",
    "df=pd.read_csv(\"test1.csv\")\n",
    "df.head()\n",
    "#df.shape\n",
    "df['Category'].value_counts()"
   ]
  },
  {
   "cell_type": "markdown",
   "id": "53b1f599",
   "metadata": {},
   "source": [
    "## basics of NLP "
   ]
  },
  {
   "cell_type": "code",
   "execution_count": 26,
   "id": "ce408a00",
   "metadata": {},
   "outputs": [
    {
     "name": "stdout",
     "output_type": "stream",
     "text": [
      "['hello', ',', 'how', 'are', 'you', '.']\n"
     ]
    },
    {
     "name": "stderr",
     "output_type": "stream",
     "text": [
      "[nltk_data] Downloading package punkt to\n",
      "[nltk_data]     C:\\Users\\niran\\AppData\\Roaming\\nltk_data...\n",
      "[nltk_data]   Package punkt is already up-to-date!\n"
     ]
    }
   ],
   "source": [
    "import nltk \n",
    "nltk.download('punkt')\n",
    "from nltk import word_tokenize \n",
    "data=\"hello, how are you.\"\n",
    "print(word_tokenize(data))"
   ]
  },
  {
   "cell_type": "code",
   "execution_count": 28,
   "id": "f939e869",
   "metadata": {},
   "outputs": [
    {
     "name": "stdout",
     "output_type": "stream",
     "text": [
      "{'its', 'against', 'other', \"hasn't\", \"couldn't\", 'has', 'isn', 'won', 'herself', 'it', 'wasn', 'on', 'below', 'our', \"needn't\", \"should've\", 'hadn', 'mightn', 'how', 'under', 'ain', \"weren't\", 'over', \"didn't\", 'am', 'haven', 'yourselves', 'with', 'there', 'having', 'but', 'only', 'during', \"don't\", 'yours', \"haven't\", 'when', 'all', 'for', 'being', 'in', 're', 'or', 'who', 'after', 'from', 'd', \"won't\", 'y', \"she's\", 'themselves', \"shouldn't\", 'been', 'if', 's', 'doing', 'very', 'him', 'yourself', 'shan', 'weren', 'because', 'at', \"isn't\", 'and', 'ours', 'why', 'do', \"you'll\", 'then', 'which', 'off', \"aren't\", 'about', 'further', 'theirs', 'didn', \"mustn't\", 'their', 'to', 'this', 'into', 't', 'couldn', 'his', \"mightn't\", 'above', 'we', 'more', 'himself', \"you're\", \"wouldn't\", 'needn', 'wouldn', 'no', 'up', 'a', 'o', 'she', 'that', \"that'll\", 'down', 'itself', 'll', 'an', 'have', 'your', 'few', 'should', 'ourselves', 'too', 'was', 'are', 'through', 'now', \"you've\", 'whom', 'myself', \"hadn't\", \"shan't\", 'them', 'hasn', 'some', 'were', 'out', 'again', 'they', 'these', 'just', 'hers', 'you', \"you'd\", 'such', 'until', 'aren', 'her', 'not', \"doesn't\", 'my', 'don', 'once', 'those', 'will', 'before', 'had', 'the', 'i', 'be', 'most', 'as', \"it's\", 'between', 'did', 'by', 'each', 'is', 'doesn', 'shouldn', 'm', 'any', 'than', 'he', 'ma', 'here', 'both', 'of', 'own', 'same', 'me', 'where', 'so', 'can', 'mustn', 'while', 'what', 'nor', 've', \"wasn't\", 'does'}\n"
     ]
    },
    {
     "name": "stderr",
     "output_type": "stream",
     "text": [
      "[nltk_data] Downloading package stopwords to\n",
      "[nltk_data]     C:\\Users\\niran\\AppData\\Roaming\\nltk_data...\n",
      "[nltk_data]   Unzipping corpora\\stopwords.zip.\n"
     ]
    }
   ],
   "source": [
    "#stopwords are connectors\n",
    "from nltk.corpus import stopwords\n",
    "nltk.download('stopwords')\n",
    "sw=set(stopwords.words('english'))\n",
    "print(sw)"
   ]
  },
  {
   "cell_type": "code",
   "execution_count": 33,
   "id": "5f97260e",
   "metadata": {},
   "outputs": [
    {
     "name": "stdout",
     "output_type": "stream",
     "text": [
      "['h', 'e', 'l', 'l', 'o', ' ', ' ', 'g', 'u', 'y', 's', ' ', 'h', 'o', 'w', ' ', 'a', 'r', 'e', ' ', 'y', 'o', 'u']\n",
      "hello  guys how are you\n",
      "['hello', 'guys', 'how', 'are', 'you']\n"
     ]
    }
   ],
   "source": [
    "#data filtering - delete punctuations \n",
    "import string \n",
    "data=\"hello , guy's how are you?\"\n",
    "data1=[char for char in data if char not in string.punctuation]\n",
    "print(data1)\n",
    "data2=''.join(data1)\n",
    "print(data2)\n",
    "data3=data2.split()\n",
    "print(data3)"
   ]
  },
  {
   "cell_type": "code",
   "execution_count": 35,
   "id": "d0e65ae1",
   "metadata": {},
   "outputs": [
    {
     "name": "stdout",
     "output_type": "stream",
     "text": [
      "{'hello': 3, 'guys': 1, 'can': 0, 'you': 5, 'hear': 2, 'me': 4}\n",
      "  (0, 0)\t1\n",
      "  (0, 1)\t1\n",
      "  (0, 2)\t1\n",
      "  (0, 3)\t2\n",
      "  (0, 4)\t1\n",
      "  (0, 5)\t1\n"
     ]
    }
   ],
   "source": [
    "#converting to words\n",
    "from sklearn.feature_extraction.text import CountVectorizer\n",
    "data1=[\"hello guys hello can you hear me .\"]\n",
    "vect=CountVectorizer() \n",
    "vect.fit(data1)\n",
    "print(vect.vocabulary_)\n",
    "vector=vect.transform(data1)\n",
    "print(vector)"
   ]
  },
  {
   "cell_type": "code",
   "execution_count": 36,
   "id": "09473161",
   "metadata": {},
   "outputs": [],
   "source": [
    "def text_cleaning(a): \n",
    "    remove_punctuation=[char for char in a if char not in string.punctuation]\n",
    "    remove_punctuation=''.join(remove_punctuation)\n",
    "    return[word for word in remove_punctuation.split() if word.lower() not in stopwords.words(\"english\")]"
   ]
  },
  {
   "cell_type": "code",
   "execution_count": 37,
   "id": "65cea573",
   "metadata": {},
   "outputs": [
    {
     "data": {
      "text/html": [
       "<div>\n",
       "<style scoped>\n",
       "    .dataframe tbody tr th:only-of-type {\n",
       "        vertical-align: middle;\n",
       "    }\n",
       "\n",
       "    .dataframe tbody tr th {\n",
       "        vertical-align: top;\n",
       "    }\n",
       "\n",
       "    .dataframe thead th {\n",
       "        text-align: right;\n",
       "    }\n",
       "</style>\n",
       "<table border=\"1\" class=\"dataframe\">\n",
       "  <thead>\n",
       "    <tr style=\"text-align: right;\">\n",
       "      <th></th>\n",
       "      <th>Title</th>\n",
       "      <th>Category</th>\n",
       "    </tr>\n",
       "  </thead>\n",
       "  <tbody>\n",
       "    <tr>\n",
       "      <th>0</th>\n",
       "      <td>Hello my name is Niranjan</td>\n",
       "      <td>1</td>\n",
       "    </tr>\n",
       "    <tr>\n",
       "      <th>1</th>\n",
       "      <td>Hello my name is A</td>\n",
       "      <td>1</td>\n",
       "    </tr>\n",
       "    <tr>\n",
       "      <th>2</th>\n",
       "      <td>I am from Jalna</td>\n",
       "      <td>2</td>\n",
       "    </tr>\n",
       "    <tr>\n",
       "      <th>3</th>\n",
       "      <td>I am from Mumbai</td>\n",
       "      <td>2</td>\n",
       "    </tr>\n",
       "    <tr>\n",
       "      <th>4</th>\n",
       "      <td>Hello my name is B</td>\n",
       "      <td>1</td>\n",
       "    </tr>\n",
       "  </tbody>\n",
       "</table>\n",
       "</div>"
      ],
      "text/plain": [
       "                       Title  Category\n",
       "0  Hello my name is Niranjan         1\n",
       "1         Hello my name is A         1\n",
       "2            I am from Jalna         2\n",
       "3           I am from Mumbai         2\n",
       "4         Hello my name is B         1"
      ]
     },
     "execution_count": 37,
     "metadata": {},
     "output_type": "execute_result"
    }
   ],
   "source": [
    "df.head()"
   ]
  },
  {
   "cell_type": "code",
   "execution_count": 38,
   "id": "49e7233a",
   "metadata": {},
   "outputs": [
    {
     "name": "stdout",
     "output_type": "stream",
     "text": [
      "0     [Hello, name, Niranjan]\n",
      "1               [Hello, name]\n",
      "2                     [Jalna]\n",
      "3                    [Mumbai]\n",
      "4            [Hello, name, B]\n",
      "5            [Hello, name, C]\n",
      "6               [Hello, name]\n",
      "7        [belong, Aurangabad]\n",
      "8            [belong, Nanded]\n",
      "9        [hometown, Parbhani]\n",
      "10         [hometown, Nashik]\n",
      "11                        [E]\n",
      "12                        [F]\n",
      "13                        [G]\n",
      "Name: Title, dtype: object\n"
     ]
    }
   ],
   "source": [
    "print(df.iloc[:,0].apply(text_cleaning))"
   ]
  },
  {
   "cell_type": "code",
   "execution_count": 39,
   "id": "b29abae0",
   "metadata": {},
   "outputs": [
    {
     "data": {
      "text/plain": [
       "{'Hello': 6,\n",
       " 'name': 15,\n",
       " 'Niranjan': 11,\n",
       " 'Jalna': 7,\n",
       " 'Mumbai': 8,\n",
       " 'B': 1,\n",
       " 'C': 2,\n",
       " 'belong': 13,\n",
       " 'Aurangabad': 0,\n",
       " 'Nanded': 9,\n",
       " 'hometown': 14,\n",
       " 'Parbhani': 12,\n",
       " 'Nashik': 10,\n",
       " 'E': 3,\n",
       " 'F': 4,\n",
       " 'G': 5}"
      ]
     },
     "execution_count": 39,
     "metadata": {},
     "output_type": "execute_result"
    }
   ],
   "source": [
    "from sklearn.feature_extraction.text import CountVectorizer\n",
    "bow_transformer=CountVectorizer(analyzer=text_cleaning).fit(df['Title'])\n",
    "bow_transformer.vocabulary_"
   ]
  },
  {
   "cell_type": "code",
   "execution_count": 40,
   "id": "5165327a",
   "metadata": {},
   "outputs": [
    {
     "name": "stdout",
     "output_type": "stream",
     "text": [
      "  (0, 6)\t1\n",
      "  (0, 11)\t1\n",
      "  (0, 15)\t1\n",
      "  (1, 6)\t1\n",
      "  (1, 15)\t1\n",
      "  (2, 7)\t1\n",
      "  (3, 8)\t1\n",
      "  (4, 1)\t1\n",
      "  (4, 6)\t1\n",
      "  (4, 15)\t1\n",
      "  (5, 2)\t1\n",
      "  (5, 6)\t1\n",
      "  (5, 15)\t1\n",
      "  (6, 6)\t1\n",
      "  (6, 15)\t1\n",
      "  (7, 0)\t1\n",
      "  (7, 13)\t1\n",
      "  (8, 9)\t1\n",
      "  (8, 13)\t1\n",
      "  (9, 12)\t1\n",
      "  (9, 14)\t1\n",
      "  (10, 10)\t1\n",
      "  (10, 14)\t1\n",
      "  (11, 3)\t1\n",
      "  (12, 4)\t1\n",
      "  (13, 5)\t1\n"
     ]
    }
   ],
   "source": []
  },
  {
   "cell_type": "code",
   "execution_count": 43,
   "id": "7c9251cb",
   "metadata": {},
   "outputs": [
    {
     "name": "stdout",
     "output_type": "stream",
     "text": [
      "TfidfTransformer()\n",
      "  (0, 15)\t0.47270480258745007\n",
      "  (0, 11)\t0.7437071595873741\n",
      "  (0, 6)\t0.47270480258745007\n",
      "  (1, 15)\t0.7071067811865476\n",
      "  (1, 6)\t0.7071067811865476\n",
      "  (2, 7)\t1.0\n",
      "  (3, 8)\t1.0\n",
      "  (4, 15)\t0.47270480258745007\n",
      "  (4, 6)\t0.47270480258745007\n",
      "  (4, 1)\t0.7437071595873741\n",
      "  (5, 15)\t0.47270480258745007\n",
      "  (5, 6)\t0.47270480258745007\n",
      "  (5, 2)\t0.7437071595873741\n",
      "  (6, 15)\t0.7071067811865476\n",
      "  (6, 6)\t0.7071067811865476\n",
      "  (7, 13)\t0.6544322710113175\n",
      "  (7, 0)\t0.7561206270556105\n",
      "  (8, 13)\t0.6544322710113175\n",
      "  (8, 9)\t0.7561206270556105\n",
      "  (9, 14)\t0.6544322710113175\n",
      "  (9, 12)\t0.7561206270556105\n",
      "  (10, 14)\t0.6544322710113175\n",
      "  (10, 10)\t0.7561206270556105\n",
      "  (11, 3)\t1.0\n",
      "  (12, 4)\t1.0\n",
      "  (13, 5)\t1.0\n",
      "(14, 16)\n"
     ]
    }
   ],
   "source": [
    "#find most important word for classification \n",
    "from sklearn.feature_extraction.text import TfidfTransformer \n",
    "tfid=TfidfTransformer().fit(title_bow)\n",
    "print(tfid)\n",
    "tfid1=tfid.transform(title_bow)\n",
    "print(tfid1)\n",
    "print(tfid1.shape)"
   ]
  },
  {
   "cell_type": "code",
   "execution_count": 44,
   "id": "8f10a09a",
   "metadata": {},
   "outputs": [],
   "source": [
    "from sklearn.naive_bayes import MultinomialNB\n",
    "model=MultinomialNB().fit(tfid1,df['Category'])"
   ]
  },
  {
   "cell_type": "code",
   "execution_count": 46,
   "id": "a1181556",
   "metadata": {},
   "outputs": [
    {
     "name": "stdout",
     "output_type": "stream",
     "text": [
      "[1 1 2 2 1 1 1 2 2 2 2 1 1 1]\n"
     ]
    }
   ],
   "source": [
    "all_predictions=model.predict(tfid1)\n",
    "print(all_predictions)"
   ]
  },
  {
   "cell_type": "code",
   "execution_count": 47,
   "id": "ae698c1c",
   "metadata": {},
   "outputs": [
    {
     "data": {
      "text/plain": [
       "array([[8, 0],\n",
       "       [0, 6]], dtype=int64)"
      ]
     },
     "execution_count": 47,
     "metadata": {},
     "output_type": "execute_result"
    }
   ],
   "source": [
    "from sklearn.metrics import confusion_matrix\n",
    "confusion_matrix(df['Category'],all_predictions)"
   ]
  },
  {
   "cell_type": "code",
   "execution_count": null,
   "id": "5d054777",
   "metadata": {},
   "outputs": [],
   "source": []
  }
 ],
 "metadata": {
  "kernelspec": {
   "display_name": "Python 3",
   "language": "python",
   "name": "python3"
  },
  "language_info": {
   "codemirror_mode": {
    "name": "ipython",
    "version": 3
   },
   "file_extension": ".py",
   "mimetype": "text/x-python",
   "name": "python",
   "nbconvert_exporter": "python",
   "pygments_lexer": "ipython3",
   "version": "3.11.0"
  }
 },
 "nbformat": 4,
 "nbformat_minor": 5
}
